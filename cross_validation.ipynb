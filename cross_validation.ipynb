{
 "cells": [
  {
   "cell_type": "code",
   "execution_count": 1,
   "id": "1142a18f",
   "metadata": {},
   "outputs": [
    {
     "ename": "NameError",
     "evalue": "name 'XGBoostRegressor' is not defined",
     "output_type": "error",
     "traceback": [
      "\u001b[1;31m---------------------------------------------------------------------------\u001b[0m",
      "\u001b[1;31mNameError\u001b[0m                                 Traceback (most recent call last)",
      "Cell \u001b[1;32mIn[1], line 33\u001b[0m\n\u001b[0;32m     20\u001b[0m y \u001b[38;5;241m=\u001b[39m encoded_data\u001b[38;5;241m.\u001b[39mdrop(\u001b[38;5;124m'\u001b[39m\u001b[38;5;124maverageResponsesByStudent\u001b[39m\u001b[38;5;124m'\u001b[39m, axis\u001b[38;5;241m=\u001b[39m\u001b[38;5;241m1\u001b[39m)\n\u001b[0;32m     22\u001b[0m my_pipeline \u001b[38;5;241m=\u001b[39m Pipeline(\n\u001b[0;32m     23\u001b[0m     steps\u001b[38;5;241m=\u001b[39m[\n\u001b[0;32m     24\u001b[0m         (\u001b[38;5;124m'\u001b[39m\u001b[38;5;124mmodel\u001b[39m\u001b[38;5;124m'\u001b[39m, RandomForestRegressor(\n\u001b[1;32m   (...)\u001b[0m\n\u001b[0;32m     28\u001b[0m     ]\n\u001b[0;32m     29\u001b[0m )\n\u001b[0;32m     31\u001b[0m my_pipeline_2 \u001b[38;5;241m=\u001b[39m Pipeline(\n\u001b[0;32m     32\u001b[0m     steps\u001b[38;5;241m=\u001b[39m[\n\u001b[1;32m---> 33\u001b[0m         (\u001b[38;5;124m'\u001b[39m\u001b[38;5;124mmodel_2\u001b[39m\u001b[38;5;124m'\u001b[39m, \u001b[43mXGBoostRegressor\u001b[49m())\n\u001b[0;32m     34\u001b[0m     ]\n\u001b[0;32m     35\u001b[0m )\n\u001b[0;32m     37\u001b[0m scores \u001b[38;5;241m=\u001b[39m \u001b[38;5;241m-\u001b[39m\u001b[38;5;241m1\u001b[39m \u001b[38;5;241m*\u001b[39m cross_val_score(\n\u001b[0;32m     38\u001b[0m     my_pipeline, X, y, cv\u001b[38;5;241m=\u001b[39m\u001b[38;5;241m5\u001b[39m, \n\u001b[0;32m     39\u001b[0m     scoring\u001b[38;5;241m=\u001b[39m\u001b[38;5;124m'\u001b[39m\u001b[38;5;124mneg_mean_absolute_error\u001b[39m\u001b[38;5;124m'\u001b[39m\n\u001b[0;32m     40\u001b[0m )\n\u001b[0;32m     42\u001b[0m scores_2 \u001b[38;5;241m=\u001b[39m \u001b[38;5;241m-\u001b[39m\u001b[38;5;241m1\u001b[39m \u001b[38;5;241m*\u001b[39m cross_val_score(\n\u001b[0;32m     43\u001b[0m     my_pipeline, X, y, cv\u001b[38;5;241m=\u001b[39m\u001b[38;5;241m5\u001b[39m, \n\u001b[0;32m     44\u001b[0m     scoring\u001b[38;5;241m=\u001b[39m\u001b[38;5;124m'\u001b[39m\u001b[38;5;124mneg_mean_absolute_error\u001b[39m\u001b[38;5;124m'\u001b[39m\n\u001b[0;32m     45\u001b[0m )\n",
      "\u001b[1;31mNameError\u001b[0m: name 'XGBoostRegressor' is not defined"
     ]
    }
   ],
   "source": [
    "import pandas as pd\n",
    "import matplotlib.pyplot as plt\n",
    "import numpy as np\n",
    "from sklearn.ensemble import RandomForestRegressor\n",
    "from xgboost import XGBRegressor\n",
    "from sklearn.pipeline import Pipeline\n",
    "from sklearn.model_selection import cross_val_score\n",
    "\n",
    "projectInterval = pd.read_csv('process_data/setapProcessT9.csv')\n",
    "\n",
    "cols = ['averageResponsesByStudent', 'SE Process grade']\n",
    "\n",
    "processesDf = pd.DataFrame(projectInterval, columns=cols)\n",
    "\n",
    "one_hot_encoded = pd.get_dummies(processesDf['SE Process grade'])\n",
    "\n",
    "encoded_data = pd.concat([processesDf.drop('SE Process grade', axis=1), one_hot_encoded], axis=1)\n",
    "\n",
    "X = encoded_data[['averageResponsesByStudent']]\n",
    "y = encoded_data.drop('averageResponsesByStudent', axis=1)\n",
    "\n",
    "my_pipeline = Pipeline(\n",
    "    steps=[\n",
    "        ('model', RandomForestRegressor(\n",
    "            n_estimators=50,\n",
    "            random_state=0\n",
    "        ))\n",
    "    ]\n",
    ")\n",
    "\n",
    "my_pipeline_2 = Pipeline(\n",
    "    steps=[\n",
    "        ('model_2', XGBoostRegressor())\n",
    "    ]\n",
    ")\n",
    "\n",
    "scores = -1 * cross_val_score(\n",
    "    my_pipeline, X, y, cv=5, \n",
    "    scoring='neg_mean_absolute_error'\n",
    ")\n",
    "\n",
    "scores_2 = -1 * cross_val_score(\n",
    "    my_pipeline, X, y, cv=5, \n",
    "    scoring='neg_mean_absolute_error'\n",
    ")\n",
    "\n",
    "print(\"MAE scores:\\n\", scores, scores.mean())\n",
    "print(\"MAE XG score:\", scores_2, scores_2.mean())"
   ]
  },
  {
   "cell_type": "code",
   "execution_count": null,
   "id": "55b11d92",
   "metadata": {},
   "outputs": [],
   "source": []
  }
 ],
 "metadata": {
  "kernelspec": {
   "display_name": "Python 3 (ipykernel)",
   "language": "python",
   "name": "python3"
  },
  "language_info": {
   "codemirror_mode": {
    "name": "ipython",
    "version": 3
   },
   "file_extension": ".py",
   "mimetype": "text/x-python",
   "name": "python",
   "nbconvert_exporter": "python",
   "pygments_lexer": "ipython3",
   "version": "3.10.9"
  }
 },
 "nbformat": 4,
 "nbformat_minor": 5
}
